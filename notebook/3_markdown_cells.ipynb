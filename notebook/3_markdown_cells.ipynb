{
 "cells": [
  {
   "cell_type": "markdown",
   "metadata": {},
   "source": [
    "# Markdown cells\n",
    "\n",
    "As mentioned before, cells can also be used for text written in Markdown. Markdown is a formatting syntax that allows you to include links, style text as bold or italicized, and format code. As with code cells, you press **Shift + Enter** or **Control + Enter** to run the Markdown cell, where it will render the Markdown to formatted text. Including text allows you to write a narrative alongside your code, as well as to document your code and the thoughts that went into it.\n",
    "\n",
    "You can find the [documentation here](https://daringfireball.net/projects/markdown/basics), but I'll provide a short primer.\n",
    "\n",
    "## Headers\n",
    "You can write headers using the pound/hash symbol `#` placed before the text. One `#` renders as an `h1` header, abd two `#`s is an `h2`, and so on. Looks like this:\n",
    "```\n",
    "# Header 1\n",
    "## Header 2\n",
    "### Header 3\n",
    "```\n",
    "renders as\n",
    "\n",
    "# Header 1\n",
    "## Header 2\n",
    "### Header 3\n",
    "\n",
    "## Links\n",
    "Linking in Markdown is done by enclosing the text in square brackets and the URL in parentheses, like this `[home page of Seoul ST. Mary’s hospital](https://www.cmcseoul.or.kr)` for a link to the [home page of Seoul ST. Mary’s hospital](https://www.cmcseoul.or.kr).\n",
    "\n",
    "## Emphasis\n",
    "You can add emphasis through bold or italics with asterisks or underscores (`*` or `_`). For italics, wrap the text in one asterisk or underscore, `_gelato_` or `*gelato*` renders as *gelato*.\n",
    "\n",
    "Bold text uses two symbols, `**aardvark**` or `__aardvark__` looks like **aardvark**.\n",
    "\n",
    "Either asterisks or underscores are fine as long as you use the same symbol on both sides of the text.\n",
    "\n",
    "## Code\n",
    "There are two different ways to display code, inline with text and as a code block separated from the text. To format inline code, wrap the text in backticks. For example, ``string.punctuation`` renders as `string.punctuation`.\n",
    "\n",
    "To create a code block, start a new line and wrap the text in three backticks\n",
    "````python\n",
    "```\n",
    "import requests\n",
    "response = requests.get('https://www.cmcseoul.or.kr')\n",
    "``` \n",
    "````\n",
    "or indent each line of the code block with four spaces.\n",
    "\n",
    "```python\n",
    "import requests\n",
    "response = requests.get('https://www.cmcseoul.or.kr')\n",
    "```\n",
    "## Math expressions\n",
    "You can create math expressions in Markdown cells using [LaTeX](https://www.latex-project.org/) symbols. Notebooks use MathJax to render the LaTeX symbols as math symbols. To start math mode, wrap the LaTeX in dollar signs `$y = mx + b$` for an inline equation, $y = m x + b$. A math block with double dollar signs,\n",
    "```latex\n",
    "$$\n",
    "y = \\frac{a}{b + c}\n",
    "$$\n",
    "```\n",
    "renders as\n",
    "$$\n",
    "y = \\frac{a}{b + c}.\n",
    "$$\n",
    "This is a really useful feature, so if you don't have experience with LaTeX, here is a [tutorial](https://www.latex-tutorial.com/) on using it to create math expressions.\n",
    "\n",
    "## Wrapping up\n",
    "Here's a [cheatsheet](https://github.com/adam-p/markdown-here/wiki/Markdown-Cheatsheet) you can use as a reference for writing Markdown. My advice is to make use of the Markdown cells. Your notebooks will be much more readable compared to a bunch of code blocks."
   ]
  },
  {
   "cell_type": "code",
   "execution_count": null,
   "metadata": {},
   "outputs": [],
   "source": []
  }
 ],
 "metadata": {
  "kernelspec": {
   "display_name": "Python 3",
   "language": "python",
   "name": "python3"
  },
  "language_info": {
   "codemirror_mode": {
    "name": "ipython",
    "version": 3
   },
   "file_extension": ".py",
   "mimetype": "text/x-python",
   "name": "python",
   "nbconvert_exporter": "python",
   "pygments_lexer": "ipython3",
   "version": "3.6.8"
  }
 },
 "nbformat": 4,
 "nbformat_minor": 2
}
