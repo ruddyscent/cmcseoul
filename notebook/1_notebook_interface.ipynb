{
 "cells": [
  {
   "cell_type": "markdown",
   "metadata": {},
   "source": [
    "# Notebook interface\n",
    "\n",
    "Create a new notebook, and feel free to try this yourself and poke around a bit.\n",
    "\n",
    "You’ll see a little box outlined in green, called a *cell*. Cells are where you write and run your code. You can also change it to render Markdown, a simplified formatting syntax for writing web content. I'll cover Markdown in more detail later. In the toolbar, click “Code” to change it to Markdown and back. The little play button runs the cell, and the up and down arrows move cells up and down.\n",
    "\n",
    "When you run a code cell, the output is displayed below the cell. The cell also gets numbered, you see `In [1]:` on the left. This lets you know the code was run and the order if you run multiple cells. Running the cell in Markdown mode renders the Markdown as text.\n",
    "\n",
    "## The toolbar\n",
    "Elsewhere on the toolbar starting from the left:\n",
    "\n",
    "* The anachronistic symbol for \"save,\" the floppy disk. Saves the notebook!\n",
    "* The `+` button creates a new cell\n",
    "* Then, buttons to cut, copy, and paste cells.\n",
    "* Run, stop, restart the kernel\n",
    "* Cell type: code, Markdown, raw text, and header\n",
    "* Command palette (see next)\n",
    "* Cell toolbar gives various options for cells such as using them as slides\n",
    "\n",
    "## Command palette\n",
    "The little keyboard is the command palette which will bring up a panel with a search bar where you can search for various commands. This helps speed up your workflow as you don't need to search around in the menus with your mouse. Just open the command palette and type in what you want to do.\n",
    "\n",
    "## More things\n",
    "At the top, you see the title. Click on this to rename the notebook.\n",
    "\n",
    "Over on the right is the kernel type (Python 3 in my case) and next to it, a little circle. When the kernel is running a cell, it'll fill in. For most operations which run quickly, it won't fill in. It's a little indicator to let you know longer running code is running.\n",
    "\n",
    "Along with the save button in the toolbar, notebooks are automatically saved periodically. The most recent save is noted to the right of the title. You can save manually with the save button, or by pressing `escape` then `s` on your keyboard. The escape key changes to command mode and `s` is the shortcut for \"save.\" I'll cover command mode and keyboard shortcuts later.\n",
    "\n",
    "In the \"File\" menu, you can download the notebook in multiple formats. You'll often want to download it as an HTML file to share with others who aren't using Jupyter. Also, you can download the notebook as a regular Python file where all the code will run like usual. The [Markdown](https://daringfireball.net/projects/markdown/) and [reST](http://docutils.sourceforge.net/rst.html) formats are great for using notebooks in blogs or documentation."
   ]
  },
  {
   "cell_type": "code",
   "execution_count": null,
   "metadata": {},
   "outputs": [],
   "source": []
  }
 ],
 "metadata": {
  "kernelspec": {
   "display_name": "Python 3",
   "language": "python",
   "name": "python3"
  },
  "language_info": {
   "codemirror_mode": {
    "name": "ipython",
    "version": 3
   },
   "file_extension": ".py",
   "mimetype": "text/x-python",
   "name": "python",
   "nbconvert_exporter": "python",
   "pygments_lexer": "ipython3",
   "version": "3.6.8"
  }
 },
 "nbformat": 4,
 "nbformat_minor": 2
}
